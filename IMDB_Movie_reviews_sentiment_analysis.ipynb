{
  "nbformat": 4,
  "nbformat_minor": 0,
  "metadata": {
    "colab": {
      "name": "IMDB Movie reviews sentiment analysis.ipynb",
      "version": "0.3.2",
      "views": {},
      "default_view": {},
      "provenance": []
    },
    "kernelspec": {
      "name": "python3",
      "display_name": "Python 3"
    }
  },
  "cells": [
    {
      "metadata": {
        "id": "S2-UH_EQ9xg7",
        "colab_type": "text"
      },
      "cell_type": "markdown",
      "source": [
        "Importing data"
      ]
    },
    {
      "metadata": {
        "id": "k6W_LgkU99ix",
        "colab_type": "code",
        "colab": {
          "autoexec": {
            "startup": false,
            "wait_interval": 0
          },
          "resources": {
            "http://localhost:8080/nbextensions/google.colab/files.js": {
              "data": "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",
              "ok": true,
              "headers": [
                [
                  "content-type",
                  "application/javascript"
                ]
              ],
              "status": 200,
              "status_text": ""
            }
          },
          "base_uri": "https://localhost:8080/",
          "height": 72
        },
        "outputId": "d20056dc-0c7f-4963-fe51-cc481dcc39f3",
        "executionInfo": {
          "status": "ok",
          "timestamp": 1533621968924,
          "user_tz": -330,
          "elapsed": 402594,
          "user": {
            "displayName": "Ashutosh Joshi",
            "photoUrl": "//lh3.googleusercontent.com/-6YAMosP-CM8/AAAAAAAAAAI/AAAAAAAAABE/HqB6Sx0giHk/s50-c-k-no/photo.jpg",
            "userId": "117103797158922616457"
          }
        }
      },
      "cell_type": "code",
      "source": [
        "from google.colab import files\n",
        "uploaded = files.upload()"
      ],
      "execution_count": 1,
      "outputs": [
        {
          "output_type": "display_data",
          "data": {
            "text/html": [
              "\n",
              "     <input type=\"file\" id=\"files-712de523-f82a-4c0c-8d77-c4feac13bd49\" name=\"files[]\" multiple disabled />\n",
              "     <output id=\"result-712de523-f82a-4c0c-8d77-c4feac13bd49\">\n",
              "      Upload widget is only available when the cell has been executed in the\n",
              "      current browser session. Please rerun this cell to enable.\n",
              "      </output>\n",
              "      <script src=\"/nbextensions/google.colab/files.js\"></script> "
            ],
            "text/plain": [
              "<IPython.core.display.HTML object>"
            ]
          },
          "metadata": {
            "tags": []
          }
        },
        {
          "output_type": "stream",
          "text": [
            "Saving labeledTrainData.tsv to labeledTrainData.tsv\n"
          ],
          "name": "stdout"
        }
      ]
    },
    {
      "metadata": {
        "id": "5kAaFmf8_n7Q",
        "colab_type": "code",
        "colab": {
          "autoexec": {
            "startup": false,
            "wait_interval": 0
          },
          "base_uri": "https://localhost:8080/",
          "height": 34
        },
        "outputId": "caeb8bbe-cd0c-445d-d56b-dba205c21831",
        "executionInfo": {
          "status": "ok",
          "timestamp": 1533622413575,
          "user_tz": -330,
          "elapsed": 856,
          "user": {
            "displayName": "Ashutosh Joshi",
            "photoUrl": "//lh3.googleusercontent.com/-6YAMosP-CM8/AAAAAAAAAAI/AAAAAAAAABE/HqB6Sx0giHk/s50-c-k-no/photo.jpg",
            "userId": "117103797158922616457"
          }
        }
      },
      "cell_type": "code",
      "source": [
        "for fn in uploaded.keys():\n",
        "  print('User uploaded file \"{name}\" with length {length} bytes'.format(name=fn, length=len(uploaded[fn])))"
      ],
      "execution_count": 9,
      "outputs": [
        {
          "output_type": "stream",
          "text": [
            "User uploaded file \"labeledTrainData.tsv\" with length 33556378 bytes\n"
          ],
          "name": "stdout"
        }
      ]
    },
    {
      "metadata": {
        "id": "pgFJm-TS_rZ5",
        "colab_type": "code",
        "colab": {
          "autoexec": {
            "startup": false,
            "wait_interval": 0
          },
          "base_uri": "https://localhost:8080/",
          "height": 136
        },
        "outputId": "c48a40e6-55d4-4956-9104-bd09a91f6eee",
        "executionInfo": {
          "status": "ok",
          "timestamp": 1533625336460,
          "user_tz": -330,
          "elapsed": 1212,
          "user": {
            "displayName": "Ashutosh Joshi",
            "photoUrl": "//lh3.googleusercontent.com/-6YAMosP-CM8/AAAAAAAAAAI/AAAAAAAAABE/HqB6Sx0giHk/s50-c-k-no/photo.jpg",
            "userId": "117103797158922616457"
          }
        }
      },
      "cell_type": "code",
      "source": [
        "import numpy as np\n",
        "np.random.seed(42) #setting the seed so to control the randomisation\n",
        "import pandas as pd\n",
        "import io\n",
        "df = pd.read_csv('labeledTrainData.tsv',header=0, delimiter=\"\\t\", quoting=3)\n",
        "print(df.head())\n",
        "df.shape"
      ],
      "execution_count": 42,
      "outputs": [
        {
          "output_type": "stream",
          "text": [
            "         id  sentiment                                             review\n",
            "0  \"5814_8\"          1  \"With all this stuff going down at the moment ...\n",
            "1  \"2381_9\"          1  \"\\\"The Classic War of the Worlds\\\" by Timothy ...\n",
            "2  \"7759_3\"          0  \"The film starts with a manager (Nicholas Bell...\n",
            "3  \"3630_4\"          0  \"It must be assumed that those who praised thi...\n",
            "4  \"9495_8\"          1  \"Superbly trashy and wondrously unpretentious ...\n"
          ],
          "name": "stdout"
        },
        {
          "output_type": "execute_result",
          "data": {
            "text/plain": [
              "(25000, 3)"
            ]
          },
          "metadata": {
            "tags": []
          },
          "execution_count": 42
        }
      ]
    },
    {
      "metadata": {
        "id": "bdqMH_0oD7F8",
        "colab_type": "text"
      },
      "cell_type": "markdown",
      "source": [
        "Spliting data into train and test dataset"
      ]
    },
    {
      "metadata": {
        "id": "upaJpEEEEP4x",
        "colab_type": "code",
        "colab": {
          "autoexec": {
            "startup": false,
            "wait_interval": 0
          }
        }
      },
      "cell_type": "code",
      "source": [
        "from sklearn.model_selection import train_test_split"
      ],
      "execution_count": 0,
      "outputs": []
    },
    {
      "metadata": {
        "id": "2KgeJh51EWKB",
        "colab_type": "code",
        "colab": {
          "autoexec": {
            "startup": false,
            "wait_interval": 0
          }
        }
      },
      "cell_type": "code",
      "source": [
        "x_train,x_test,y_train,y_test= train_test_split(df.review,df.sentiment, test_size=0.2, random_state=42)"
      ],
      "execution_count": 0,
      "outputs": []
    },
    {
      "metadata": {
        "id": "Q9E1udaHFNKb",
        "colab_type": "code",
        "colab": {
          "autoexec": {
            "startup": false,
            "wait_interval": 0
          },
          "base_uri": "https://localhost:8080/",
          "height": 51
        },
        "outputId": "474f10db-0606-440e-dd33-fe95073ad4bb",
        "executionInfo": {
          "status": "ok",
          "timestamp": 1533625345366,
          "user_tz": -330,
          "elapsed": 860,
          "user": {
            "displayName": "Ashutosh Joshi",
            "photoUrl": "//lh3.googleusercontent.com/-6YAMosP-CM8/AAAAAAAAAAI/AAAAAAAAABE/HqB6Sx0giHk/s50-c-k-no/photo.jpg",
            "userId": "117103797158922616457"
          }
        }
      },
      "cell_type": "code",
      "source": [
        "print(x_test.size)\n",
        "print(x_train.size)"
      ],
      "execution_count": 45,
      "outputs": [
        {
          "output_type": "stream",
          "text": [
            "5000\n",
            "20000\n"
          ],
          "name": "stdout"
        }
      ]
    },
    {
      "metadata": {
        "id": "6wfjs4iYGAtj",
        "colab_type": "text"
      },
      "cell_type": "markdown",
      "source": [
        "Build the tokenizer"
      ]
    },
    {
      "metadata": {
        "id": "xxPBfae8GtRr",
        "colab_type": "code",
        "colab": {
          "autoexec": {
            "startup": false,
            "wait_interval": 0
          }
        }
      },
      "cell_type": "code",
      "source": [
        "from tensorflow.python.keras.preprocessing.text import Tokenizer"
      ],
      "execution_count": 0,
      "outputs": []
    },
    {
      "metadata": {
        "id": "X6P4H57cGvxl",
        "colab_type": "code",
        "colab": {
          "autoexec": {
            "startup": false,
            "wait_interval": 0
          }
        }
      },
      "cell_type": "code",
      "source": [
        "top_words = 5000\n",
        "t = Tokenizer(num_words=top_words) # num_words -> Vocablury size\n",
        "t.fit_on_texts(x_train.tolist())"
      ],
      "execution_count": 0,
      "outputs": []
    },
    {
      "metadata": {
        "id": "w4t6RHblRqnT",
        "colab_type": "code",
        "colab": {
          "autoexec": {
            "startup": false,
            "wait_interval": 0
          },
          "base_uri": "https://localhost:8080/",
          "height": 136
        },
        "outputId": "92a57b18-d021-4279-ff85-a8f772aa81bc",
        "executionInfo": {
          "status": "ok",
          "timestamp": 1533626816869,
          "user_tz": -330,
          "elapsed": 545,
          "user": {
            "displayName": "Ashutosh Joshi",
            "photoUrl": "//lh3.googleusercontent.com/-6YAMosP-CM8/AAAAAAAAAAI/AAAAAAAAABE/HqB6Sx0giHk/s50-c-k-no/photo.jpg",
            "userId": "117103797158922616457"
          }
        }
      },
      "cell_type": "code",
      "source": [
        "print(x_train)\n",
        "#print(x_train.tolist())"
      ],
      "execution_count": 56,
      "outputs": [
        {
          "output_type": "stream",
          "text": [
            "[[0.         2.8519505  1.69455273 ... 0.         0.         0.        ]\n",
            " [0.         2.30230053 2.09194648 ... 0.         0.         0.        ]\n",
            " [0.         2.36874323 1.69455273 ... 0.         0.         0.        ]\n",
            " ...\n",
            " [0.         2.7855078  2.41290966 ... 0.         0.         0.        ]\n",
            " [0.         1.180328   1.69455273 ... 0.         0.         0.        ]\n",
            " [0.         2.36874323 1.49026425 ... 0.         0.         0.        ]]\n"
          ],
          "name": "stdout"
        }
      ]
    },
    {
      "metadata": {
        "id": "yaVzPlMPH_8c",
        "colab_type": "text"
      },
      "cell_type": "markdown",
      "source": [
        "converting text into numbers using tf-idf"
      ]
    },
    {
      "metadata": {
        "id": "LlIns1fJIEC-",
        "colab_type": "code",
        "colab": {
          "autoexec": {
            "startup": false,
            "wait_interval": 0
          },
          "base_uri": "https://localhost:8080/",
          "height": 51
        },
        "outputId": "6963f5b5-3594-4cb8-b481-29f020faa734",
        "executionInfo": {
          "status": "ok",
          "timestamp": 1533625375353,
          "user_tz": -330,
          "elapsed": 16657,
          "user": {
            "displayName": "Ashutosh Joshi",
            "photoUrl": "//lh3.googleusercontent.com/-6YAMosP-CM8/AAAAAAAAAAI/AAAAAAAAABE/HqB6Sx0giHk/s50-c-k-no/photo.jpg",
            "userId": "117103797158922616457"
          }
        }
      },
      "cell_type": "code",
      "source": [
        "x_train=t.texts_to_matrix(x_train.tolist(),mode='tfidf')\n",
        "x_test=t.texts_to_matrix(x_test.tolist(),mode='tfidf')\n",
        "print(x_train.shape)\n",
        "x_test.shape"
      ],
      "execution_count": 48,
      "outputs": [
        {
          "output_type": "stream",
          "text": [
            "(20000, 5000)\n"
          ],
          "name": "stdout"
        },
        {
          "output_type": "execute_result",
          "data": {
            "text/plain": [
              "(5000, 5000)"
            ]
          },
          "metadata": {
            "tags": []
          },
          "execution_count": 48
        }
      ]
    },
    {
      "metadata": {
        "id": "2T8oB3o-JyVu",
        "colab_type": "text"
      },
      "cell_type": "markdown",
      "source": [
        "Lets Build the Graph"
      ]
    },
    {
      "metadata": {
        "id": "00mLPG2cJ0ZJ",
        "colab_type": "code",
        "colab": {
          "autoexec": {
            "startup": false,
            "wait_interval": 0
          }
        }
      },
      "cell_type": "code",
      "source": [
        "from tensorflow.python.keras.models import Sequential"
      ],
      "execution_count": 0,
      "outputs": []
    },
    {
      "metadata": {
        "id": "1u_NjhTWJ5H9",
        "colab_type": "code",
        "colab": {
          "autoexec": {
            "startup": false,
            "wait_interval": 0
          }
        }
      },
      "cell_type": "code",
      "source": [
        "from tensorflow.python.keras.layers import Dropout, Dense"
      ],
      "execution_count": 0,
      "outputs": []
    },
    {
      "metadata": {
        "id": "AqvzJsn8J_bU",
        "colab_type": "code",
        "colab": {
          "autoexec": {
            "startup": false,
            "wait_interval": 0
          }
        }
      },
      "cell_type": "code",
      "source": [
        "model = Sequential()"
      ],
      "execution_count": 0,
      "outputs": []
    },
    {
      "metadata": {
        "id": "NTpBLbHSKAkw",
        "colab_type": "code",
        "colab": {
          "autoexec": {
            "startup": false,
            "wait_interval": 0
          }
        }
      },
      "cell_type": "code",
      "source": [
        "model.add(Dense(200,activation='relu',input_shape=(5000,)))\n",
        "model.add(Dense(100,activation='relu'))\n",
        "model.add(Dropout(0.4))\n",
        "model.add(Dense(60,activation='relu'))\n",
        "model.add(Dropout(0.4))\n",
        "model.add(Dense(30,activation='relu'))\n",
        "model.add(Dropout(0.25))\n",
        "model.add(Dense(1,activation='sigmoid'))\n",
        "model.compile(optimizer='adam',loss='binary_crossentropy',metrics=['accuracy'])"
      ],
      "execution_count": 0,
      "outputs": []
    },
    {
      "metadata": {
        "id": "9oUjg_rTKny7",
        "colab_type": "text"
      },
      "cell_type": "markdown",
      "source": [
        "Execute the graph"
      ]
    },
    {
      "metadata": {
        "id": "JSricwylKmZU",
        "colab_type": "code",
        "colab": {
          "autoexec": {
            "startup": false,
            "wait_interval": 0
          },
          "base_uri": "https://localhost:8080/",
          "height": 731
        },
        "outputId": "aa39d8d3-ee1c-4aab-fb13-f789b5521a99",
        "executionInfo": {
          "status": "ok",
          "timestamp": 1533625639486,
          "user_tz": -330,
          "elapsed": 102968,
          "user": {
            "displayName": "Ashutosh Joshi",
            "photoUrl": "//lh3.googleusercontent.com/-6YAMosP-CM8/AAAAAAAAAAI/AAAAAAAAABE/HqB6Sx0giHk/s50-c-k-no/photo.jpg",
            "userId": "117103797158922616457"
          }
        }
      },
      "cell_type": "code",
      "source": [
        "model.fit(x_train,y_train,epochs=20,batch_size=128,validation_data=(x_test, y_test))"
      ],
      "execution_count": 54,
      "outputs": [
        {
          "output_type": "stream",
          "text": [
            "Train on 20000 samples, validate on 5000 samples\n",
            "Epoch 1/20\n",
            "20000/20000 [==============================] - 5s 270us/step - loss: 0.0413 - acc: 0.9879 - val_loss: 0.6546 - val_acc: 0.8764\n",
            "Epoch 2/20\n",
            "20000/20000 [==============================] - 5s 247us/step - loss: 0.0175 - acc: 0.9951 - val_loss: 0.7453 - val_acc: 0.8722\n",
            "Epoch 3/20\n",
            "20000/20000 [==============================] - 5s 260us/step - loss: 0.0171 - acc: 0.9946 - val_loss: 0.8010 - val_acc: 0.8746\n",
            "Epoch 4/20\n",
            "20000/20000 [==============================] - 5s 257us/step - loss: 0.0146 - acc: 0.9960 - val_loss: 0.7951 - val_acc: 0.8766\n",
            "Epoch 5/20\n",
            "20000/20000 [==============================] - 5s 251us/step - loss: 0.0090 - acc: 0.9975 - val_loss: 0.8861 - val_acc: 0.8718\n",
            "Epoch 6/20\n",
            "20000/20000 [==============================] - 5s 244us/step - loss: 0.0090 - acc: 0.9975 - val_loss: 0.8277 - val_acc: 0.8726\n",
            "Epoch 7/20\n",
            "20000/20000 [==============================] - 5s 260us/step - loss: 0.0053 - acc: 0.9988 - val_loss: 0.9556 - val_acc: 0.8754\n",
            "Epoch 8/20\n",
            "20000/20000 [==============================] - 5s 258us/step - loss: 0.0089 - acc: 0.9972 - val_loss: 0.9702 - val_acc: 0.8714\n",
            "Epoch 9/20\n",
            "20000/20000 [==============================] - 5s 262us/step - loss: 0.0094 - acc: 0.9970 - val_loss: 0.9694 - val_acc: 0.8672\n",
            "Epoch 10/20\n",
            "20000/20000 [==============================] - 5s 243us/step - loss: 0.0042 - acc: 0.9987 - val_loss: 1.0705 - val_acc: 0.8762\n",
            "Epoch 11/20\n",
            "20000/20000 [==============================] - 5s 261us/step - loss: 0.0129 - acc: 0.9964 - val_loss: 0.8538 - val_acc: 0.8708\n",
            "Epoch 12/20\n",
            "20000/20000 [==============================] - 5s 257us/step - loss: 0.0087 - acc: 0.9972 - val_loss: 0.9124 - val_acc: 0.8720\n",
            "Epoch 13/20\n",
            "20000/20000 [==============================] - 5s 251us/step - loss: 0.0051 - acc: 0.9984 - val_loss: 0.9824 - val_acc: 0.8712\n",
            "Epoch 14/20\n",
            "20000/20000 [==============================] - 5s 241us/step - loss: 0.0017 - acc: 0.9996 - val_loss: 1.1012 - val_acc: 0.8706\n",
            "Epoch 15/20\n",
            "20000/20000 [==============================] - 5s 257us/step - loss: 6.2079e-04 - acc: 0.9999 - val_loss: 1.1429 - val_acc: 0.8706\n",
            "Epoch 16/20\n",
            "20000/20000 [==============================] - 5s 261us/step - loss: 2.1921e-04 - acc: 1.0000 - val_loss: 1.2017 - val_acc: 0.8720\n",
            "Epoch 17/20\n",
            "20000/20000 [==============================] - 5s 259us/step - loss: 8.9082e-04 - acc: 0.9997 - val_loss: 1.1949 - val_acc: 0.8740\n",
            "Epoch 18/20\n",
            "20000/20000 [==============================] - 5s 245us/step - loss: 0.0046 - acc: 0.9987 - val_loss: 1.0967 - val_acc: 0.8698\n",
            "Epoch 19/20\n",
            "20000/20000 [==============================] - 5s 260us/step - loss: 0.0045 - acc: 0.9987 - val_loss: 1.1437 - val_acc: 0.8664\n",
            "Epoch 20/20\n",
            "20000/20000 [==============================] - 5s 263us/step - loss: 0.0033 - acc: 0.9988 - val_loss: 1.1217 - val_acc: 0.8714\n"
          ],
          "name": "stdout"
        },
        {
          "output_type": "execute_result",
          "data": {
            "text/plain": [
              "<tensorflow.python.keras.callbacks.History at 0x7f7eae359780>"
            ]
          },
          "metadata": {
            "tags": []
          },
          "execution_count": 54
        }
      ]
    }
  ]
}